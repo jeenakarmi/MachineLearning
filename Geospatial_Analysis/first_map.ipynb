{
 "cells": [
  {
   "cell_type": "code",
   "execution_count": 4,
   "id": "2fd15964-a93c-4437-881c-8ea2573d037d",
   "metadata": {},
   "outputs": [
    {
     "name": "stdout",
     "output_type": "stream",
     "text": [
      "First Map\n"
     ]
    }
   ],
   "source": [
    "print(\"First Map\")"
   ]
  },
  {
   "cell_type": "code",
   "execution_count": null,
   "id": "8a966dc5-82eb-47e2-b584-1048aee6c571",
   "metadata": {},
   "outputs": [],
   "source": []
  }
 ],
 "metadata": {
  "kernelspec": {
   "display_name": "Python 3 (ipykernel)",
   "language": "python",
   "name": "python3"
  },
  "language_info": {
   "codemirror_mode": {
    "name": "ipython",
    "version": 3
   },
   "file_extension": ".py",
   "mimetype": "text/x-python",
   "name": "python",
   "nbconvert_exporter": "python",
   "pygments_lexer": "ipython3",
   "version": "3.11.5"
  }
 },
 "nbformat": 4,
 "nbformat_minor": 5
}
