{
 "cells": [
  {
   "cell_type": "code",
   "execution_count": 4,
   "id": "2fd15964-a93c-4437-881c-8ea2573d037d",
   "metadata": {},
   "outputs": [
    {
     "name": "stdout",
     "output_type": "stream",
     "text": [
      "First Map\n"
     ]
    }
   ],
   "source": [
    "print(\"First Map\")"
   ]
  },
  {
   "cell_type": "code",
   "execution_count": 1,
   "id": "8a966dc5-82eb-47e2-b584-1048aee6c571",
   "metadata": {},
   "outputs": [],
   "source": [
    "import geopandas as gpd"
   ]
  },
  {
   "cell_type": "code",
   "execution_count": null,
   "id": "471abfb9-44a3-4278-87f3-a8eca8579ae7",
   "metadata": {},
   "outputs": [],
   "source": []
  }
 ],
 "metadata": {
  "kernelspec": {
   "display_name": "Python (pyvenv)",
   "language": "python",
   "name": "pyvenv"
  },
  "language_info": {
   "codemirror_mode": {
    "name": "ipython",
    "version": 3
   },
   "file_extension": ".py",
   "mimetype": "text/x-python",
   "name": "python",
   "nbconvert_exporter": "python",
   "pygments_lexer": "ipython3",
   "version": "3.11.5"
  }
 },
 "nbformat": 4,
 "nbformat_minor": 5
}
